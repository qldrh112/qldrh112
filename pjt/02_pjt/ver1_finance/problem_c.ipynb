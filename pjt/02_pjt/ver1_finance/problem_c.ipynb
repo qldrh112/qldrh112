{
 "cells": [
  {
   "cell_type": "markdown",
   "metadata": {},
   "source": [
    "C. 데이터 분석 – 2021년 이후 최고, 최저 종가 출력하기\n",
    "• csv 파일을 DataFrame 으로 읽어와 2021년 이후의 데이터만 필터링합니다.\n",
    "• 종가(Close) 필드를 활용하여, 2021년 이후 가장 높은 종가와 가장 낮은 종가를 출력합니다.\n",
    "• Pandas 의 내장 함수를 사용합니다."
   ]
  },
  {
   "cell_type": "code",
   "execution_count": 2,
   "metadata": {},
   "outputs": [
    {
     "name": "stdout",
     "output_type": "stream",
     "text": [
      "최고 종가: 691.690002\n",
      "최저 종가: 359.700012\n"
     ]
    }
   ],
   "source": [
    "import pandas as pd\n",
    "\n",
    "df = pd.read_csv('NFLX.csv')\n",
    "\n",
    "# 조건을 건 다음에는 df로 묶어주자 그렇지 않으면 true, false 값을 받는다.\n",
    "df_after_2021 = df[df['Date'] > '2021-01-01']\n",
    "\n",
    "max_price = df_after_2021['Close'].max()\n",
    "min_price = df_after_2021['Close'].min()\n",
    "\n",
    "print('최고 종가:', max_price)\n",
    "print('최저 종가:', min_price)"
   ]
  }
 ],
 "metadata": {
  "kernelspec": {
   "display_name": "Python 3",
   "language": "python",
   "name": "python3"
  },
  "language_info": {
   "codemirror_mode": {
    "name": "ipython",
    "version": 3
   },
   "file_extension": ".py",
   "mimetype": "text/x-python",
   "name": "python",
   "nbconvert_exporter": "python",
   "pygments_lexer": "ipython3",
   "version": "3.12.1"
  }
 },
 "nbformat": 4,
 "nbformat_minor": 2
}
